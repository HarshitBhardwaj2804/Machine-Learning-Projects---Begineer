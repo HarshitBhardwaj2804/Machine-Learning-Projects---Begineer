{
 "cells": [
  {
   "cell_type": "markdown",
   "id": "dc8f4c95-9436-45eb-8a51-f4f57375689e",
   "metadata": {},
   "source": [
    "# Loan Prediction Project"
   ]
  },
  {
   "cell_type": "code",
   "execution_count": 37,
   "id": "5041a20f-7794-4daa-b3ca-98e01adffb25",
   "metadata": {},
   "outputs": [],
   "source": [
    "## Importing libraries\n",
    "import pandas as pd\n",
    "import numpy as np\n",
    "import matplotlib.pyplot as plt\n",
    "import seaborn as sns"
   ]
  },
  {
   "cell_type": "code",
   "execution_count": 38,
   "id": "9a1f79d8-91c3-4023-b704-aab253b7d5d7",
   "metadata": {},
   "outputs": [
    {
     "data": {
      "text/html": [
       "<div>\n",
       "<style scoped>\n",
       "    .dataframe tbody tr th:only-of-type {\n",
       "        vertical-align: middle;\n",
       "    }\n",
       "\n",
       "    .dataframe tbody tr th {\n",
       "        vertical-align: top;\n",
       "    }\n",
       "\n",
       "    .dataframe thead th {\n",
       "        text-align: right;\n",
       "    }\n",
       "</style>\n",
       "<table border=\"1\" class=\"dataframe\">\n",
       "  <thead>\n",
       "    <tr style=\"text-align: right;\">\n",
       "      <th></th>\n",
       "      <th>LoanID</th>\n",
       "      <th>Age</th>\n",
       "      <th>Income</th>\n",
       "      <th>LoanAmount</th>\n",
       "      <th>CreditScore</th>\n",
       "      <th>MonthsEmployed</th>\n",
       "      <th>NumCreditLines</th>\n",
       "      <th>InterestRate</th>\n",
       "      <th>LoanTerm</th>\n",
       "      <th>DTIRatio</th>\n",
       "      <th>Education</th>\n",
       "      <th>EmploymentType</th>\n",
       "      <th>MaritalStatus</th>\n",
       "      <th>HasMortgage</th>\n",
       "      <th>HasDependents</th>\n",
       "      <th>LoanPurpose</th>\n",
       "      <th>HasCoSigner</th>\n",
       "      <th>Default</th>\n",
       "    </tr>\n",
       "  </thead>\n",
       "  <tbody>\n",
       "    <tr>\n",
       "      <th>0</th>\n",
       "      <td>I38PQUQS96</td>\n",
       "      <td>56</td>\n",
       "      <td>85994</td>\n",
       "      <td>50587</td>\n",
       "      <td>520</td>\n",
       "      <td>80</td>\n",
       "      <td>4</td>\n",
       "      <td>15.23</td>\n",
       "      <td>36</td>\n",
       "      <td>0.44</td>\n",
       "      <td>Bachelor's</td>\n",
       "      <td>Full-time</td>\n",
       "      <td>Divorced</td>\n",
       "      <td>Yes</td>\n",
       "      <td>Yes</td>\n",
       "      <td>Other</td>\n",
       "      <td>Yes</td>\n",
       "      <td>0</td>\n",
       "    </tr>\n",
       "    <tr>\n",
       "      <th>1</th>\n",
       "      <td>HPSK72WA7R</td>\n",
       "      <td>69</td>\n",
       "      <td>50432</td>\n",
       "      <td>124440</td>\n",
       "      <td>458</td>\n",
       "      <td>15</td>\n",
       "      <td>1</td>\n",
       "      <td>4.81</td>\n",
       "      <td>60</td>\n",
       "      <td>0.68</td>\n",
       "      <td>Master's</td>\n",
       "      <td>Full-time</td>\n",
       "      <td>Married</td>\n",
       "      <td>No</td>\n",
       "      <td>No</td>\n",
       "      <td>Other</td>\n",
       "      <td>Yes</td>\n",
       "      <td>0</td>\n",
       "    </tr>\n",
       "    <tr>\n",
       "      <th>2</th>\n",
       "      <td>C1OZ6DPJ8Y</td>\n",
       "      <td>46</td>\n",
       "      <td>84208</td>\n",
       "      <td>129188</td>\n",
       "      <td>451</td>\n",
       "      <td>26</td>\n",
       "      <td>3</td>\n",
       "      <td>21.17</td>\n",
       "      <td>24</td>\n",
       "      <td>0.31</td>\n",
       "      <td>Master's</td>\n",
       "      <td>Unemployed</td>\n",
       "      <td>Divorced</td>\n",
       "      <td>Yes</td>\n",
       "      <td>Yes</td>\n",
       "      <td>Auto</td>\n",
       "      <td>No</td>\n",
       "      <td>1</td>\n",
       "    </tr>\n",
       "    <tr>\n",
       "      <th>3</th>\n",
       "      <td>V2KKSFM3UN</td>\n",
       "      <td>32</td>\n",
       "      <td>31713</td>\n",
       "      <td>44799</td>\n",
       "      <td>743</td>\n",
       "      <td>0</td>\n",
       "      <td>3</td>\n",
       "      <td>7.07</td>\n",
       "      <td>24</td>\n",
       "      <td>0.23</td>\n",
       "      <td>High School</td>\n",
       "      <td>Full-time</td>\n",
       "      <td>Married</td>\n",
       "      <td>No</td>\n",
       "      <td>No</td>\n",
       "      <td>Business</td>\n",
       "      <td>No</td>\n",
       "      <td>0</td>\n",
       "    </tr>\n",
       "    <tr>\n",
       "      <th>4</th>\n",
       "      <td>EY08JDHTZP</td>\n",
       "      <td>60</td>\n",
       "      <td>20437</td>\n",
       "      <td>9139</td>\n",
       "      <td>633</td>\n",
       "      <td>8</td>\n",
       "      <td>4</td>\n",
       "      <td>6.51</td>\n",
       "      <td>48</td>\n",
       "      <td>0.73</td>\n",
       "      <td>Bachelor's</td>\n",
       "      <td>Unemployed</td>\n",
       "      <td>Divorced</td>\n",
       "      <td>No</td>\n",
       "      <td>Yes</td>\n",
       "      <td>Auto</td>\n",
       "      <td>No</td>\n",
       "      <td>0</td>\n",
       "    </tr>\n",
       "  </tbody>\n",
       "</table>\n",
       "</div>"
      ],
      "text/plain": [
       "       LoanID  Age  Income  LoanAmount  CreditScore  MonthsEmployed  \\\n",
       "0  I38PQUQS96   56   85994       50587          520              80   \n",
       "1  HPSK72WA7R   69   50432      124440          458              15   \n",
       "2  C1OZ6DPJ8Y   46   84208      129188          451              26   \n",
       "3  V2KKSFM3UN   32   31713       44799          743               0   \n",
       "4  EY08JDHTZP   60   20437        9139          633               8   \n",
       "\n",
       "   NumCreditLines  InterestRate  LoanTerm  DTIRatio    Education  \\\n",
       "0               4         15.23        36      0.44   Bachelor's   \n",
       "1               1          4.81        60      0.68     Master's   \n",
       "2               3         21.17        24      0.31     Master's   \n",
       "3               3          7.07        24      0.23  High School   \n",
       "4               4          6.51        48      0.73   Bachelor's   \n",
       "\n",
       "  EmploymentType MaritalStatus HasMortgage HasDependents LoanPurpose  \\\n",
       "0      Full-time      Divorced         Yes           Yes       Other   \n",
       "1      Full-time       Married          No            No       Other   \n",
       "2     Unemployed      Divorced         Yes           Yes        Auto   \n",
       "3      Full-time       Married          No            No    Business   \n",
       "4     Unemployed      Divorced          No           Yes        Auto   \n",
       "\n",
       "  HasCoSigner  Default  \n",
       "0         Yes        0  \n",
       "1         Yes        0  \n",
       "2          No        1  \n",
       "3          No        0  \n",
       "4          No        0  "
      ]
     },
     "execution_count": 38,
     "metadata": {},
     "output_type": "execute_result"
    }
   ],
   "source": [
    "df = pd.read_csv(\"Loan_default.csv\")\n",
    "df.head()"
   ]
  },
  {
   "cell_type": "code",
   "execution_count": 39,
   "id": "49ebe589-9679-42cb-8b15-09ad3dc85bf9",
   "metadata": {},
   "outputs": [
    {
     "data": {
      "text/plain": [
       "(255347, 18)"
      ]
     },
     "execution_count": 39,
     "metadata": {},
     "output_type": "execute_result"
    }
   ],
   "source": [
    "df.shape"
   ]
  },
  {
   "cell_type": "code",
   "execution_count": 40,
   "id": "f9387c62-b18f-41c4-a620-29e2f6a4bca0",
   "metadata": {},
   "outputs": [
    {
     "name": "stdout",
     "output_type": "stream",
     "text": [
      "<class 'pandas.core.frame.DataFrame'>\n",
      "RangeIndex: 255347 entries, 0 to 255346\n",
      "Data columns (total 18 columns):\n",
      " #   Column          Non-Null Count   Dtype  \n",
      "---  ------          --------------   -----  \n",
      " 0   LoanID          255347 non-null  object \n",
      " 1   Age             255347 non-null  int64  \n",
      " 2   Income          255347 non-null  int64  \n",
      " 3   LoanAmount      255347 non-null  int64  \n",
      " 4   CreditScore     255347 non-null  int64  \n",
      " 5   MonthsEmployed  255347 non-null  int64  \n",
      " 6   NumCreditLines  255347 non-null  int64  \n",
      " 7   InterestRate    255347 non-null  float64\n",
      " 8   LoanTerm        255347 non-null  int64  \n",
      " 9   DTIRatio        255347 non-null  float64\n",
      " 10  Education       255347 non-null  object \n",
      " 11  EmploymentType  255347 non-null  object \n",
      " 12  MaritalStatus   255347 non-null  object \n",
      " 13  HasMortgage     255347 non-null  object \n",
      " 14  HasDependents   255347 non-null  object \n",
      " 15  LoanPurpose     255347 non-null  object \n",
      " 16  HasCoSigner     255347 non-null  object \n",
      " 17  Default         255347 non-null  int64  \n",
      "dtypes: float64(2), int64(8), object(8)\n",
      "memory usage: 35.1+ MB\n"
     ]
    }
   ],
   "source": [
    "df.info()"
   ]
  },
  {
   "cell_type": "code",
   "execution_count": 41,
   "id": "178bf8ed-1c14-4dc0-942e-a16eef4c8463",
   "metadata": {},
   "outputs": [
    {
     "data": {
      "text/plain": [
       "LoanID            0\n",
       "Age               0\n",
       "Income            0\n",
       "LoanAmount        0\n",
       "CreditScore       0\n",
       "MonthsEmployed    0\n",
       "NumCreditLines    0\n",
       "InterestRate      0\n",
       "LoanTerm          0\n",
       "DTIRatio          0\n",
       "Education         0\n",
       "EmploymentType    0\n",
       "MaritalStatus     0\n",
       "HasMortgage       0\n",
       "HasDependents     0\n",
       "LoanPurpose       0\n",
       "HasCoSigner       0\n",
       "Default           0\n",
       "dtype: int64"
      ]
     },
     "execution_count": 41,
     "metadata": {},
     "output_type": "execute_result"
    }
   ],
   "source": [
    "##Checking null values\n",
    "df.isnull().sum()"
   ]
  },
  {
   "cell_type": "code",
   "execution_count": 42,
   "id": "3f772dbc-9133-4abb-a7e4-f62c8f785b64",
   "metadata": {},
   "outputs": [
    {
     "data": {
      "text/plain": [
       "Default\n",
       "0    225694\n",
       "1     29653\n",
       "Name: count, dtype: int64"
      ]
     },
     "execution_count": 42,
     "metadata": {},
     "output_type": "execute_result"
    }
   ],
   "source": [
    "## Checking values of the target column\n",
    "df['Default'].value_counts()"
   ]
  },
  {
   "cell_type": "code",
   "execution_count": 43,
   "id": "47a0c43d-3c2c-4dc0-ab10-cfbdeb8a4f13",
   "metadata": {},
   "outputs": [
    {
     "data": {
      "text/plain": [
       "Default\n",
       "0    88.387175\n",
       "1    11.612825\n",
       "Name: count, dtype: float64"
      ]
     },
     "execution_count": 43,
     "metadata": {},
     "output_type": "execute_result"
    }
   ],
   "source": [
    "(df['Default'].value_counts()/len(df)) * 100"
   ]
  },
  {
   "cell_type": "markdown",
   "id": "d39dac7e-86a4-4b9a-b11a-0f2642e95759",
   "metadata": {},
   "source": [
    "## Obervations:\n",
    "1. The dataset is highly imbalanced 88.4% output is belongs to 0 (preson will not default) and 11.6% belongs to 1 (person will deafult). {Need to handle}\n",
    "\n",
    "### To handle this problem I will follow the following approach.\n",
    "1. Preform EDA and preprocessing so that data becomes ready to feed to the different models(that we would make in next few steps).\n",
    "2. Create multiple classification models on the inbalanced dataset. (Goal: See how well your model handles the imbalance without any help.)\n",
    "3. Create models with the hyperparameter class_weight = \"balanced\" on the same imbalanced dataset.\n",
    "4. Apply SMOTE to make data balanced and create models using balanced data.\n",
    "5. Pick the best preforming models of step 2, 3, 4 and compare there preformance, to find the best model.\n",
    "6. Hyperparameter tune the best model to make it more better. Also reduce the irrelevant features using multicolinearity(if needed)."
   ]
  },
  {
   "cell_type": "markdown",
   "id": "ec4e5ecc-e87c-45f0-92c2-2615577da822",
   "metadata": {},
   "source": [
    "## Step1: EDA and Preprocessing."
   ]
  },
  {
   "cell_type": "code",
   "execution_count": 44,
   "id": "ee70158d-11e2-4ca4-a436-b90d0c85ffd0",
   "metadata": {},
   "outputs": [
    {
     "data": {
      "text/html": [
       "<div>\n",
       "<style scoped>\n",
       "    .dataframe tbody tr th:only-of-type {\n",
       "        vertical-align: middle;\n",
       "    }\n",
       "\n",
       "    .dataframe tbody tr th {\n",
       "        vertical-align: top;\n",
       "    }\n",
       "\n",
       "    .dataframe thead th {\n",
       "        text-align: right;\n",
       "    }\n",
       "</style>\n",
       "<table border=\"1\" class=\"dataframe\">\n",
       "  <thead>\n",
       "    <tr style=\"text-align: right;\">\n",
       "      <th></th>\n",
       "      <th>LoanID</th>\n",
       "      <th>Age</th>\n",
       "      <th>Income</th>\n",
       "      <th>LoanAmount</th>\n",
       "      <th>CreditScore</th>\n",
       "      <th>MonthsEmployed</th>\n",
       "      <th>NumCreditLines</th>\n",
       "      <th>InterestRate</th>\n",
       "      <th>LoanTerm</th>\n",
       "      <th>DTIRatio</th>\n",
       "      <th>Education</th>\n",
       "      <th>EmploymentType</th>\n",
       "      <th>MaritalStatus</th>\n",
       "      <th>HasMortgage</th>\n",
       "      <th>HasDependents</th>\n",
       "      <th>LoanPurpose</th>\n",
       "      <th>HasCoSigner</th>\n",
       "      <th>Default</th>\n",
       "    </tr>\n",
       "  </thead>\n",
       "  <tbody>\n",
       "    <tr>\n",
       "      <th>0</th>\n",
       "      <td>I38PQUQS96</td>\n",
       "      <td>56</td>\n",
       "      <td>85994</td>\n",
       "      <td>50587</td>\n",
       "      <td>520</td>\n",
       "      <td>80</td>\n",
       "      <td>4</td>\n",
       "      <td>15.23</td>\n",
       "      <td>36</td>\n",
       "      <td>0.44</td>\n",
       "      <td>Bachelor's</td>\n",
       "      <td>Full-time</td>\n",
       "      <td>Divorced</td>\n",
       "      <td>Yes</td>\n",
       "      <td>Yes</td>\n",
       "      <td>Other</td>\n",
       "      <td>Yes</td>\n",
       "      <td>0</td>\n",
       "    </tr>\n",
       "    <tr>\n",
       "      <th>1</th>\n",
       "      <td>HPSK72WA7R</td>\n",
       "      <td>69</td>\n",
       "      <td>50432</td>\n",
       "      <td>124440</td>\n",
       "      <td>458</td>\n",
       "      <td>15</td>\n",
       "      <td>1</td>\n",
       "      <td>4.81</td>\n",
       "      <td>60</td>\n",
       "      <td>0.68</td>\n",
       "      <td>Master's</td>\n",
       "      <td>Full-time</td>\n",
       "      <td>Married</td>\n",
       "      <td>No</td>\n",
       "      <td>No</td>\n",
       "      <td>Other</td>\n",
       "      <td>Yes</td>\n",
       "      <td>0</td>\n",
       "    </tr>\n",
       "    <tr>\n",
       "      <th>2</th>\n",
       "      <td>C1OZ6DPJ8Y</td>\n",
       "      <td>46</td>\n",
       "      <td>84208</td>\n",
       "      <td>129188</td>\n",
       "      <td>451</td>\n",
       "      <td>26</td>\n",
       "      <td>3</td>\n",
       "      <td>21.17</td>\n",
       "      <td>24</td>\n",
       "      <td>0.31</td>\n",
       "      <td>Master's</td>\n",
       "      <td>Unemployed</td>\n",
       "      <td>Divorced</td>\n",
       "      <td>Yes</td>\n",
       "      <td>Yes</td>\n",
       "      <td>Auto</td>\n",
       "      <td>No</td>\n",
       "      <td>1</td>\n",
       "    </tr>\n",
       "    <tr>\n",
       "      <th>3</th>\n",
       "      <td>V2KKSFM3UN</td>\n",
       "      <td>32</td>\n",
       "      <td>31713</td>\n",
       "      <td>44799</td>\n",
       "      <td>743</td>\n",
       "      <td>0</td>\n",
       "      <td>3</td>\n",
       "      <td>7.07</td>\n",
       "      <td>24</td>\n",
       "      <td>0.23</td>\n",
       "      <td>High School</td>\n",
       "      <td>Full-time</td>\n",
       "      <td>Married</td>\n",
       "      <td>No</td>\n",
       "      <td>No</td>\n",
       "      <td>Business</td>\n",
       "      <td>No</td>\n",
       "      <td>0</td>\n",
       "    </tr>\n",
       "    <tr>\n",
       "      <th>4</th>\n",
       "      <td>EY08JDHTZP</td>\n",
       "      <td>60</td>\n",
       "      <td>20437</td>\n",
       "      <td>9139</td>\n",
       "      <td>633</td>\n",
       "      <td>8</td>\n",
       "      <td>4</td>\n",
       "      <td>6.51</td>\n",
       "      <td>48</td>\n",
       "      <td>0.73</td>\n",
       "      <td>Bachelor's</td>\n",
       "      <td>Unemployed</td>\n",
       "      <td>Divorced</td>\n",
       "      <td>No</td>\n",
       "      <td>Yes</td>\n",
       "      <td>Auto</td>\n",
       "      <td>No</td>\n",
       "      <td>0</td>\n",
       "    </tr>\n",
       "  </tbody>\n",
       "</table>\n",
       "</div>"
      ],
      "text/plain": [
       "       LoanID  Age  Income  LoanAmount  CreditScore  MonthsEmployed  \\\n",
       "0  I38PQUQS96   56   85994       50587          520              80   \n",
       "1  HPSK72WA7R   69   50432      124440          458              15   \n",
       "2  C1OZ6DPJ8Y   46   84208      129188          451              26   \n",
       "3  V2KKSFM3UN   32   31713       44799          743               0   \n",
       "4  EY08JDHTZP   60   20437        9139          633               8   \n",
       "\n",
       "   NumCreditLines  InterestRate  LoanTerm  DTIRatio    Education  \\\n",
       "0               4         15.23        36      0.44   Bachelor's   \n",
       "1               1          4.81        60      0.68     Master's   \n",
       "2               3         21.17        24      0.31     Master's   \n",
       "3               3          7.07        24      0.23  High School   \n",
       "4               4          6.51        48      0.73   Bachelor's   \n",
       "\n",
       "  EmploymentType MaritalStatus HasMortgage HasDependents LoanPurpose  \\\n",
       "0      Full-time      Divorced         Yes           Yes       Other   \n",
       "1      Full-time       Married          No            No       Other   \n",
       "2     Unemployed      Divorced         Yes           Yes        Auto   \n",
       "3      Full-time       Married          No            No    Business   \n",
       "4     Unemployed      Divorced          No           Yes        Auto   \n",
       "\n",
       "  HasCoSigner  Default  \n",
       "0         Yes        0  \n",
       "1         Yes        0  \n",
       "2          No        1  \n",
       "3          No        0  \n",
       "4          No        0  "
      ]
     },
     "execution_count": 44,
     "metadata": {},
     "output_type": "execute_result"
    }
   ],
   "source": [
    "df.head()"
   ]
  },
  {
   "cell_type": "markdown",
   "id": "f38b5d5e-aad7-4819-8230-392562507f51",
   "metadata": {},
   "source": [
    "#### Till now we find that\n",
    "1. There a no null values\n",
    "2. 8 Categorical columns which need to get handle"
   ]
  },
  {
   "cell_type": "code",
   "execution_count": 45,
   "id": "edb75913-fac6-4c61-bd3d-7f8ee53a4cb5",
   "metadata": {},
   "outputs": [],
   "source": [
    "df.drop('LoanID', axis = 1, inplace = True)"
   ]
  },
  {
   "cell_type": "code",
   "execution_count": 46,
   "id": "394877a0-46c1-49d6-9b8f-d63895e111b6",
   "metadata": {},
   "outputs": [
    {
     "data": {
      "text/html": [
       "<div>\n",
       "<style scoped>\n",
       "    .dataframe tbody tr th:only-of-type {\n",
       "        vertical-align: middle;\n",
       "    }\n",
       "\n",
       "    .dataframe tbody tr th {\n",
       "        vertical-align: top;\n",
       "    }\n",
       "\n",
       "    .dataframe thead th {\n",
       "        text-align: right;\n",
       "    }\n",
       "</style>\n",
       "<table border=\"1\" class=\"dataframe\">\n",
       "  <thead>\n",
       "    <tr style=\"text-align: right;\">\n",
       "      <th></th>\n",
       "      <th>Education</th>\n",
       "      <th>EmploymentType</th>\n",
       "      <th>MaritalStatus</th>\n",
       "      <th>HasMortgage</th>\n",
       "      <th>HasDependents</th>\n",
       "      <th>LoanPurpose</th>\n",
       "      <th>HasCoSigner</th>\n",
       "    </tr>\n",
       "  </thead>\n",
       "  <tbody>\n",
       "    <tr>\n",
       "      <th>0</th>\n",
       "      <td>Bachelor's</td>\n",
       "      <td>Full-time</td>\n",
       "      <td>Divorced</td>\n",
       "      <td>Yes</td>\n",
       "      <td>Yes</td>\n",
       "      <td>Other</td>\n",
       "      <td>Yes</td>\n",
       "    </tr>\n",
       "    <tr>\n",
       "      <th>1</th>\n",
       "      <td>Master's</td>\n",
       "      <td>Full-time</td>\n",
       "      <td>Married</td>\n",
       "      <td>No</td>\n",
       "      <td>No</td>\n",
       "      <td>Other</td>\n",
       "      <td>Yes</td>\n",
       "    </tr>\n",
       "    <tr>\n",
       "      <th>2</th>\n",
       "      <td>Master's</td>\n",
       "      <td>Unemployed</td>\n",
       "      <td>Divorced</td>\n",
       "      <td>Yes</td>\n",
       "      <td>Yes</td>\n",
       "      <td>Auto</td>\n",
       "      <td>No</td>\n",
       "    </tr>\n",
       "    <tr>\n",
       "      <th>3</th>\n",
       "      <td>High School</td>\n",
       "      <td>Full-time</td>\n",
       "      <td>Married</td>\n",
       "      <td>No</td>\n",
       "      <td>No</td>\n",
       "      <td>Business</td>\n",
       "      <td>No</td>\n",
       "    </tr>\n",
       "    <tr>\n",
       "      <th>4</th>\n",
       "      <td>Bachelor's</td>\n",
       "      <td>Unemployed</td>\n",
       "      <td>Divorced</td>\n",
       "      <td>No</td>\n",
       "      <td>Yes</td>\n",
       "      <td>Auto</td>\n",
       "      <td>No</td>\n",
       "    </tr>\n",
       "    <tr>\n",
       "      <th>...</th>\n",
       "      <td>...</td>\n",
       "      <td>...</td>\n",
       "      <td>...</td>\n",
       "      <td>...</td>\n",
       "      <td>...</td>\n",
       "      <td>...</td>\n",
       "      <td>...</td>\n",
       "    </tr>\n",
       "    <tr>\n",
       "      <th>255342</th>\n",
       "      <td>Bachelor's</td>\n",
       "      <td>Full-time</td>\n",
       "      <td>Married</td>\n",
       "      <td>No</td>\n",
       "      <td>No</td>\n",
       "      <td>Other</td>\n",
       "      <td>No</td>\n",
       "    </tr>\n",
       "    <tr>\n",
       "      <th>255343</th>\n",
       "      <td>High School</td>\n",
       "      <td>Part-time</td>\n",
       "      <td>Divorced</td>\n",
       "      <td>No</td>\n",
       "      <td>No</td>\n",
       "      <td>Home</td>\n",
       "      <td>No</td>\n",
       "    </tr>\n",
       "    <tr>\n",
       "      <th>255344</th>\n",
       "      <td>High School</td>\n",
       "      <td>Self-employed</td>\n",
       "      <td>Married</td>\n",
       "      <td>Yes</td>\n",
       "      <td>Yes</td>\n",
       "      <td>Auto</td>\n",
       "      <td>Yes</td>\n",
       "    </tr>\n",
       "    <tr>\n",
       "      <th>255345</th>\n",
       "      <td>High School</td>\n",
       "      <td>Part-time</td>\n",
       "      <td>Single</td>\n",
       "      <td>Yes</td>\n",
       "      <td>Yes</td>\n",
       "      <td>Other</td>\n",
       "      <td>No</td>\n",
       "    </tr>\n",
       "    <tr>\n",
       "      <th>255346</th>\n",
       "      <td>Bachelor's</td>\n",
       "      <td>Unemployed</td>\n",
       "      <td>Divorced</td>\n",
       "      <td>Yes</td>\n",
       "      <td>No</td>\n",
       "      <td>Education</td>\n",
       "      <td>Yes</td>\n",
       "    </tr>\n",
       "  </tbody>\n",
       "</table>\n",
       "<p>255347 rows × 7 columns</p>\n",
       "</div>"
      ],
      "text/plain": [
       "          Education EmploymentType MaritalStatus HasMortgage HasDependents  \\\n",
       "0        Bachelor's      Full-time      Divorced         Yes           Yes   \n",
       "1          Master's      Full-time       Married          No            No   \n",
       "2          Master's     Unemployed      Divorced         Yes           Yes   \n",
       "3       High School      Full-time       Married          No            No   \n",
       "4        Bachelor's     Unemployed      Divorced          No           Yes   \n",
       "...             ...            ...           ...         ...           ...   \n",
       "255342   Bachelor's      Full-time       Married          No            No   \n",
       "255343  High School      Part-time      Divorced          No            No   \n",
       "255344  High School  Self-employed       Married         Yes           Yes   \n",
       "255345  High School      Part-time        Single         Yes           Yes   \n",
       "255346   Bachelor's     Unemployed      Divorced         Yes            No   \n",
       "\n",
       "       LoanPurpose HasCoSigner  \n",
       "0            Other         Yes  \n",
       "1            Other         Yes  \n",
       "2             Auto          No  \n",
       "3         Business          No  \n",
       "4             Auto          No  \n",
       "...            ...         ...  \n",
       "255342       Other          No  \n",
       "255343        Home          No  \n",
       "255344        Auto         Yes  \n",
       "255345       Other          No  \n",
       "255346   Education         Yes  \n",
       "\n",
       "[255347 rows x 7 columns]"
      ]
     },
     "execution_count": 46,
     "metadata": {},
     "output_type": "execute_result"
    }
   ],
   "source": [
    "cat_columns = df.select_dtypes(include='object')\n",
    "cat_columns"
   ]
  },
  {
   "cell_type": "code",
   "execution_count": 47,
   "id": "fbbcbadc-bc0c-4793-8db8-447f01d4fdcb",
   "metadata": {},
   "outputs": [
    {
     "name": "stdout",
     "output_type": "stream",
     "text": [
      "Education\n",
      "Bachelor's     64366\n",
      "High School    63903\n",
      "Master's       63541\n",
      "PhD            63537\n",
      "Name: count, dtype: int64\n",
      "\n",
      "EmploymentType\n",
      "Part-time        64161\n",
      "Unemployed       63824\n",
      "Self-employed    63706\n",
      "Full-time        63656\n",
      "Name: count, dtype: int64\n",
      "\n",
      "MaritalStatus\n",
      "Married     85302\n",
      "Divorced    85033\n",
      "Single      85012\n",
      "Name: count, dtype: int64\n",
      "\n",
      "HasMortgage\n",
      "Yes    127677\n",
      "No     127670\n",
      "Name: count, dtype: int64\n",
      "\n",
      "HasDependents\n",
      "Yes    127742\n",
      "No     127605\n",
      "Name: count, dtype: int64\n",
      "\n",
      "LoanPurpose\n",
      "Business     51298\n",
      "Home         51286\n",
      "Education    51005\n",
      "Other        50914\n",
      "Auto         50844\n",
      "Name: count, dtype: int64\n",
      "\n",
      "HasCoSigner\n",
      "Yes    127701\n",
      "No     127646\n",
      "Name: count, dtype: int64\n",
      "\n"
     ]
    }
   ],
   "source": [
    "for x in cat_columns:\n",
    "    print(df[x].value_counts())\n",
    "    print()"
   ]
  },
  {
   "cell_type": "code",
   "execution_count": 48,
   "id": "1b0ee987-bd13-442c-a067-9e48c9f8ecbb",
   "metadata": {},
   "outputs": [
    {
     "data": {
      "text/plain": [
       "Index(['Education', 'EmploymentType', 'MaritalStatus', 'HasMortgage',\n",
       "       'HasDependents', 'LoanPurpose', 'HasCoSigner'],\n",
       "      dtype='object')"
      ]
     },
     "execution_count": 48,
     "metadata": {},
     "output_type": "execute_result"
    }
   ],
   "source": [
    "cat_columns.columns"
   ]
  },
  {
   "cell_type": "markdown",
   "id": "756d7683-ae75-4fb9-962c-60e0c34b93e3",
   "metadata": {},
   "source": [
    "## Observations:\n",
    "Columns ['HasMortgage', 'HasDependents', 'HasCoSigner'] contain values yes & no so we just simply map yes with 1 and no with 0."
   ]
  },
  {
   "cell_type": "code",
   "execution_count": 49,
   "id": "50933344-7487-4817-8510-fba4dbd0d03e",
   "metadata": {},
   "outputs": [],
   "source": [
    "## First of all I will split the dataset in training & testing to avoid dataleakage.\n",
    "X = df.drop('Default', axis = 1)\n",
    "y = df['Default']"
   ]
  },
  {
   "cell_type": "code",
   "execution_count": 50,
   "id": "91a66ee7-a82e-4908-be5c-87912a23bfa5",
   "metadata": {},
   "outputs": [],
   "source": [
    "from sklearn.model_selection import train_test_split\n",
    "X_train, X_test, y_train, y_test = train_test_split(X,y, test_size=0.3, random_state = 42)"
   ]
  },
  {
   "cell_type": "code",
   "execution_count": 51,
   "id": "aad173eb-8c78-4599-a452-cb60b456a36a",
   "metadata": {},
   "outputs": [],
   "source": [
    "map_columns = ['HasMortgage', 'HasDependents', 'HasCoSigner']\n",
    "for x in map_columns:\n",
    "    X_train[x] = X_train[x].map({\"Yes\" : 1, \"No\" : 0})\n",
    "    X_test[x] = X_test[x].map({\"Yes\" : 1, \"No\" : 0})"
   ]
  },
  {
   "cell_type": "code",
   "execution_count": 52,
   "id": "543fde27-e88d-48c4-a0eb-f1b6ea3bb847",
   "metadata": {},
   "outputs": [],
   "source": [
    "## Now we have to apply label encoding on the remaining categorical columns.\n",
    "label_columns = ['Education', 'EmploymentType', 'MaritalStatus', 'LoanPurpose']\n",
    "from sklearn.preprocessing import LabelEncoder\n",
    "encoders = {}\n",
    "for x in label_columns:\n",
    "    le = LabelEncoder()\n",
    "    X_train[x] = le.fit_transform(X_train[x])\n",
    "    X_test[x] = le.transform(X_test[x])\n",
    "    encoders[x] = le"
   ]
  },
  {
   "cell_type": "code",
   "execution_count": 53,
   "id": "38baf73d-1174-483c-a4b2-e53b40de14d1",
   "metadata": {},
   "outputs": [
    {
     "name": "stdout",
     "output_type": "stream",
     "text": [
      "<class 'pandas.core.frame.DataFrame'>\n",
      "Index: 178742 entries, 73275 to 121958\n",
      "Data columns (total 16 columns):\n",
      " #   Column          Non-Null Count   Dtype  \n",
      "---  ------          --------------   -----  \n",
      " 0   Age             178742 non-null  int64  \n",
      " 1   Income          178742 non-null  int64  \n",
      " 2   LoanAmount      178742 non-null  int64  \n",
      " 3   CreditScore     178742 non-null  int64  \n",
      " 4   MonthsEmployed  178742 non-null  int64  \n",
      " 5   NumCreditLines  178742 non-null  int64  \n",
      " 6   InterestRate    178742 non-null  float64\n",
      " 7   LoanTerm        178742 non-null  int64  \n",
      " 8   DTIRatio        178742 non-null  float64\n",
      " 9   Education       178742 non-null  int64  \n",
      " 10  EmploymentType  178742 non-null  int64  \n",
      " 11  MaritalStatus   178742 non-null  int64  \n",
      " 12  HasMortgage     178742 non-null  int64  \n",
      " 13  HasDependents   178742 non-null  int64  \n",
      " 14  LoanPurpose     178742 non-null  int64  \n",
      " 15  HasCoSigner     178742 non-null  int64  \n",
      "dtypes: float64(2), int64(14)\n",
      "memory usage: 23.2 MB\n"
     ]
    }
   ],
   "source": [
    "X_train.info()"
   ]
  },
  {
   "cell_type": "code",
   "execution_count": 54,
   "id": "e0563a79-3499-4a27-b611-4f9c849dd51e",
   "metadata": {},
   "outputs": [
    {
     "name": "stdout",
     "output_type": "stream",
     "text": [
      "<class 'pandas.core.frame.DataFrame'>\n",
      "Index: 76605 entries, 51139 to 3198\n",
      "Data columns (total 16 columns):\n",
      " #   Column          Non-Null Count  Dtype  \n",
      "---  ------          --------------  -----  \n",
      " 0   Age             76605 non-null  int64  \n",
      " 1   Income          76605 non-null  int64  \n",
      " 2   LoanAmount      76605 non-null  int64  \n",
      " 3   CreditScore     76605 non-null  int64  \n",
      " 4   MonthsEmployed  76605 non-null  int64  \n",
      " 5   NumCreditLines  76605 non-null  int64  \n",
      " 6   InterestRate    76605 non-null  float64\n",
      " 7   LoanTerm        76605 non-null  int64  \n",
      " 8   DTIRatio        76605 non-null  float64\n",
      " 9   Education       76605 non-null  int64  \n",
      " 10  EmploymentType  76605 non-null  int64  \n",
      " 11  MaritalStatus   76605 non-null  int64  \n",
      " 12  HasMortgage     76605 non-null  int64  \n",
      " 13  HasDependents   76605 non-null  int64  \n",
      " 14  LoanPurpose     76605 non-null  int64  \n",
      " 15  HasCoSigner     76605 non-null  int64  \n",
      "dtypes: float64(2), int64(14)\n",
      "memory usage: 9.9 MB\n"
     ]
    }
   ],
   "source": [
    "X_test.info()"
   ]
  },
  {
   "cell_type": "code",
   "execution_count": 55,
   "id": "195dbb06-00d0-4936-9a2a-9d206d006b20",
   "metadata": {},
   "outputs": [],
   "source": [
    "## Till now we encoded the data into numeric "
   ]
  },
  {
   "cell_type": "code",
   "execution_count": 56,
   "id": "3d9691b5-ee15-4093-93da-ae5beb4cf295",
   "metadata": {},
   "outputs": [],
   "source": [
    "## Standardize the data\n",
    "from sklearn.preprocessing import StandardScaler\n",
    "scaler = StandardScaler()\n",
    "X_train_scaled = scaler.fit_transform(X_train)\n",
    "X_test_scaled = scaler.transform(X_test)"
   ]
  },
  {
   "cell_type": "code",
   "execution_count": null,
   "id": "96e3e0e4-e61a-41ad-b605-37c717b84bd6",
   "metadata": {},
   "outputs": [],
   "source": []
  },
  {
   "cell_type": "code",
   "execution_count": null,
   "id": "e4da04a4-45f4-4c53-9368-fb2a8c4d45a5",
   "metadata": {},
   "outputs": [],
   "source": []
  },
  {
   "cell_type": "markdown",
   "id": "e2c7718d-75f9-4e99-8fd7-e6a393df12d7",
   "metadata": {},
   "source": [
    "## Step2: Model Creation on the imbalanced dataset(X_train_scaled, X_test_scaled).\n"
   ]
  },
  {
   "cell_type": "code",
   "execution_count": 57,
   "id": "cdcd5902-6056-4b1d-95da-21ccc3ff3bd8",
   "metadata": {},
   "outputs": [
    {
     "data": {
      "text/plain": [
       "{'LogisticRegression': LogisticRegression(),\n",
       " 'Naive-Bayes': GaussianNB(),\n",
       " 'KNN': KNeighborsClassifier(),\n",
       " 'DecisionTree': DecisionTreeClassifier(),\n",
       " 'RandomForest': RandomForestClassifier(),\n",
       " 'Adaboost': AdaBoostClassifier()}"
      ]
     },
     "execution_count": 57,
     "metadata": {},
     "output_type": "execute_result"
    }
   ],
   "source": [
    "from sklearn.linear_model import LogisticRegression\n",
    "from sklearn.svm import SVC\n",
    "from sklearn.naive_bayes import GaussianNB\n",
    "from sklearn.neighbors import KNeighborsClassifier\n",
    "from sklearn.tree import DecisionTreeClassifier\n",
    "from sklearn.ensemble import RandomForestClassifier\n",
    "from sklearn.ensemble import AdaBoostClassifier\n",
    "models = {\n",
    "    \"LogisticRegression\" : LogisticRegression(),\n",
    "    #\"SVC\" : SVC(),\n",
    "    \"Naive-Bayes\" : GaussianNB(),\n",
    "    \"KNN\": KNeighborsClassifier(),\n",
    "    \"DecisionTree\" : DecisionTreeClassifier(),\n",
    "    \"RandomForest\" : RandomForestClassifier(),\n",
    "    \"Adaboost\" : AdaBoostClassifier()\n",
    "}\n",
    "models"
   ]
  },
  {
   "cell_type": "code",
   "execution_count": 58,
   "id": "d5e28401-2f43-4092-ad2c-3adb9d1c9498",
   "metadata": {},
   "outputs": [],
   "source": [
    "from sklearn.metrics import f1_score, classification_report"
   ]
  },
  {
   "cell_type": "code",
   "execution_count": 59,
   "id": "0378112c-361d-4349-af3f-9cdf3a489357",
   "metadata": {},
   "outputs": [
    {
     "name": "stdout",
     "output_type": "stream",
     "text": [
      "LogisticRegression, score :  5.973970556859398\n",
      "              precision    recall  f1-score   support\n",
      "\n",
      "           0       1.00      0.89      0.94     76155\n",
      "           1       0.03      0.62      0.06       450\n",
      "\n",
      "    accuracy                           0.88     76605\n",
      "   macro avg       0.51      0.75      0.50     76605\n",
      "weighted avg       0.99      0.88      0.93     76605\n",
      "\n",
      "\n",
      "Naive-Bayes, score :  3.1940494421352\n",
      "              precision    recall  f1-score   support\n",
      "\n",
      "           0       1.00      0.89      0.94     76387\n",
      "           1       0.02      0.67      0.03       218\n",
      "\n",
      "    accuracy                           0.88     76605\n",
      "   macro avg       0.51      0.78      0.49     76605\n",
      "weighted avg       1.00      0.88      0.94     76605\n",
      "\n",
      "\n",
      "KNN, score :  11.299852289512554\n",
      "              precision    recall  f1-score   support\n",
      "\n",
      "           0       0.98      0.89      0.93     74697\n",
      "           1       0.07      0.32      0.11      1908\n",
      "\n",
      "    accuracy                           0.87     76605\n",
      "   macro avg       0.52      0.60      0.52     76605\n",
      "weighted avg       0.96      0.87      0.91     76605\n",
      "\n",
      "\n",
      "DecisionTree, score :  22.06889449564904\n",
      "              precision    recall  f1-score   support\n",
      "\n",
      "           0       0.88      0.90      0.89     66108\n",
      "           1       0.24      0.20      0.22     10497\n",
      "\n",
      "    accuracy                           0.80     76605\n",
      "   macro avg       0.56      0.55      0.55     76605\n",
      "weighted avg       0.79      0.80      0.80     76605\n",
      "\n",
      "\n",
      "RandomForest, score :  8.895833333333334\n",
      "              precision    recall  f1-score   support\n",
      "\n",
      "           0       1.00      0.89      0.94     75929\n",
      "           1       0.05      0.63      0.09       676\n",
      "\n",
      "    accuracy                           0.89     76605\n",
      "   macro avg       0.52      0.76      0.51     76605\n",
      "weighted avg       0.99      0.89      0.93     76605\n",
      "\n",
      "\n",
      "Adaboost, score :  7.859163784973279\n",
      "              precision    recall  f1-score   support\n",
      "\n",
      "           0       1.00      0.89      0.94     75986\n",
      "           1       0.04      0.61      0.08       619\n",
      "\n",
      "    accuracy                           0.89     76605\n",
      "   macro avg       0.52      0.75      0.51     76605\n",
      "weighted avg       0.99      0.89      0.93     76605\n",
      "\n",
      "\n"
     ]
    }
   ],
   "source": [
    "for i in range(len(list(models))):\n",
    "    model = list(models.values())[i]\n",
    "    model.fit(X_train_scaled, y_train)\n",
    "\n",
    "    y_pred = model.predict(X_test_scaled)\n",
    "\n",
    "    print(f\"{list(models.keys())[i]}, score : \", f1_score(y_test, y_pred)*100)\n",
    "    print(classification_report(y_pred, y_test))\n",
    "    print()"
   ]
  },
  {
   "cell_type": "markdown",
   "id": "9a92a696-9f4f-4e62-8ced-19cfad9042c6",
   "metadata": {},
   "source": [
    "### How to find out which model preform well?\n",
    "#### As these model to their predictions on imbalanced dataset so simply check the precision, recall, f1-score value in the classification report for the minority class (which is 1).\n",
    "### On this basis the Decision Tree model preform well on the imbalanced data."
   ]
  },
  {
   "cell_type": "markdown",
   "id": "fdff0f6d-4e5e-4213-9ee3-496420e6229c",
   "metadata": {},
   "source": [
    "## Create models with the hyperparameter class_weight = \"balanced\" on the same imbalanced dataset.\n",
    "#### In an imbalanced dataset, the model can become biased toward the majority class, ignoring the minority class. class_weight='balanced' helps combat this by penalizing misclassification of the minority class more heavily during training."
   ]
  },
  {
   "cell_type": "code",
   "execution_count": 60,
   "id": "80e90bb8-37df-4afa-8c67-f02747a33d66",
   "metadata": {},
   "outputs": [
    {
     "data": {
      "text/plain": [
       "{'LogisticRegression': LogisticRegression(class_weight='balanced'),\n",
       " 'DecisionTree': DecisionTreeClassifier(class_weight='balanced'),\n",
       " 'RandomForest': RandomForestClassifier(class_weight='balanced')}"
      ]
     },
     "execution_count": 60,
     "metadata": {},
     "output_type": "execute_result"
    }
   ],
   "source": [
    "models = {\n",
    "    \"LogisticRegression\" : LogisticRegression(class_weight = \"balanced\"),\n",
    "    \"DecisionTree\" : DecisionTreeClassifier(class_weight=\"balanced\"),\n",
    "    \"RandomForest\" : RandomForestClassifier(class_weight=\"balanced\")\n",
    "}\n",
    "models"
   ]
  },
  {
   "cell_type": "code",
   "execution_count": 61,
   "id": "1f00206c-1de1-4201-a71a-b7e00c38e5be",
   "metadata": {},
   "outputs": [
    {
     "name": "stdout",
     "output_type": "stream",
     "text": [
      "LogisticRegression, score :  33.03348460030611\n",
      "              precision    recall  f1-score   support\n",
      "\n",
      "           0       0.67      0.94      0.78     48288\n",
      "           1       0.69      0.22      0.33     28317\n",
      "\n",
      "    accuracy                           0.67     76605\n",
      "   macro avg       0.68      0.58      0.56     76605\n",
      "weighted avg       0.68      0.67      0.62     76605\n",
      "\n",
      "\n",
      "DecisionTree, score :  19.826800364630813\n",
      "              precision    recall  f1-score   support\n",
      "\n",
      "           0       0.90      0.89      0.90     67977\n",
      "           1       0.19      0.20      0.20      8628\n",
      "\n",
      "    accuracy                           0.82     76605\n",
      "   macro avg       0.55      0.55      0.55     76605\n",
      "weighted avg       0.82      0.82      0.82     76605\n",
      "\n",
      "\n",
      "RandomForest, score :  5.05539421318705\n",
      "              precision    recall  f1-score   support\n",
      "\n",
      "           0       1.00      0.89      0.94     76232\n",
      "           1       0.03      0.63      0.05       373\n",
      "\n",
      "    accuracy                           0.88     76605\n",
      "   macro avg       0.51      0.76      0.49     76605\n",
      "weighted avg       0.99      0.88      0.93     76605\n",
      "\n",
      "\n"
     ]
    }
   ],
   "source": [
    "for i in range(len(list(models))):\n",
    "    model = list(models.values())[i]\n",
    "    model.fit(X_train_scaled, y_train)\n",
    "\n",
    "    y_pred = model.predict(X_test_scaled)\n",
    "\n",
    "    print(f\"{list(models.keys())[i]}, score : \", f1_score(y_test, y_pred)*100)\n",
    "    print(classification_report(y_pred, y_test))\n",
    "    print()"
   ]
  },
  {
   "cell_type": "markdown",
   "id": "71a37738-3e71-4097-808a-dc60b592a3d6",
   "metadata": {},
   "source": [
    "### With class_weight = \"balanced\", logistic and decision tree both preform better. Thus we can consider them for further tunning."
   ]
  },
  {
   "cell_type": "markdown",
   "id": "4f27d11d-ef78-4f6b-8c9a-d7f1dde052f7",
   "metadata": {},
   "source": [
    "## Step4: Apply SMOTE to make data balanced and create models using balanced data."
   ]
  },
  {
   "cell_type": "code",
   "execution_count": 62,
   "id": "6d26929e-fa08-4767-9d1f-483eb25fd24c",
   "metadata": {},
   "outputs": [
    {
     "data": {
      "text/plain": [
       "Default\n",
       "0    158013\n",
       "1     20729\n",
       "Name: count, dtype: int64"
      ]
     },
     "execution_count": 62,
     "metadata": {},
     "output_type": "execute_result"
    }
   ],
   "source": [
    "y_train.value_counts()"
   ]
  },
  {
   "cell_type": "code",
   "execution_count": 63,
   "id": "377c89dc-f8cc-46be-9ff6-e37e9fe4a41f",
   "metadata": {},
   "outputs": [],
   "source": [
    "from imblearn.over_sampling import SMOTE\n",
    "smote = SMOTE(random_state = 42)\n",
    "X_train_resampled, y_train_resampled = smote.fit_resample(X_train_scaled, y_train)"
   ]
  },
  {
   "cell_type": "code",
   "execution_count": 64,
   "id": "977ceb00-eb39-437d-ab56-4cbfed127e78",
   "metadata": {},
   "outputs": [
    {
     "data": {
      "text/plain": [
       "Default\n",
       "1    158013\n",
       "0    158013\n",
       "Name: count, dtype: int64"
      ]
     },
     "execution_count": 64,
     "metadata": {},
     "output_type": "execute_result"
    }
   ],
   "source": [
    "y_train_resampled.value_counts()"
   ]
  },
  {
   "cell_type": "code",
   "execution_count": 65,
   "id": "d6e1ddf4-9cfc-4887-85b1-ec44e2e9a734",
   "metadata": {},
   "outputs": [
    {
     "data": {
      "text/plain": [
       "{'LogisticRegression': LogisticRegression(),\n",
       " 'Naive-Bayes': GaussianNB(),\n",
       " 'KNN': KNeighborsClassifier(),\n",
       " 'DecisionTree': DecisionTreeClassifier(),\n",
       " 'RandomForest': RandomForestClassifier(),\n",
       " 'Adaboost': AdaBoostClassifier()}"
      ]
     },
     "execution_count": 65,
     "metadata": {},
     "output_type": "execute_result"
    }
   ],
   "source": [
    "## Model Training\n",
    "models = {\n",
    "    \"LogisticRegression\" : LogisticRegression(),\n",
    "    \"Naive-Bayes\" : GaussianNB(),\n",
    "    \"KNN\": KNeighborsClassifier(),\n",
    "    \"DecisionTree\" : DecisionTreeClassifier(),\n",
    "    \"RandomForest\" : RandomForestClassifier(),\n",
    "    \"Adaboost\" : AdaBoostClassifier()\n",
    "}\n",
    "models"
   ]
  },
  {
   "cell_type": "code",
   "execution_count": 66,
   "id": "9b2bf5af-c3d4-4b99-bf66-0eb75b59c067",
   "metadata": {},
   "outputs": [
    {
     "name": "stdout",
     "output_type": "stream",
     "text": [
      "LogisticRegression, score :  33.21025136073958\n",
      "              precision    recall  f1-score   support\n",
      "\n",
      "           0       0.68      0.94      0.79     48968\n",
      "           1       0.68      0.22      0.33     27637\n",
      "\n",
      "    accuracy                           0.68     76605\n",
      "   macro avg       0.68      0.58      0.56     76605\n",
      "weighted avg       0.68      0.68      0.63     76605\n",
      "\n",
      "\n",
      "Naive-Bayes, score :  32.87535449764586\n",
      "              precision    recall  f1-score   support\n",
      "\n",
      "           0       0.68      0.94      0.79     49210\n",
      "           1       0.67      0.22      0.33     27395\n",
      "\n",
      "    accuracy                           0.68     76605\n",
      "   macro avg       0.68      0.58      0.56     76605\n",
      "weighted avg       0.68      0.68      0.63     76605\n",
      "\n",
      "\n",
      "KNN, score :  25.901330977285035\n",
      "              precision    recall  f1-score   support\n",
      "\n",
      "           0       0.68      0.91      0.78     50442\n",
      "           1       0.51      0.17      0.26     26163\n",
      "\n",
      "    accuracy                           0.66     76605\n",
      "   macro avg       0.59      0.54      0.52     76605\n",
      "weighted avg       0.62      0.66      0.60     76605\n",
      "\n",
      "\n",
      "DecisionTree, score :  22.250912652479744\n",
      "              precision    recall  f1-score   support\n",
      "\n",
      "           0       0.84      0.90      0.87     63067\n",
      "           1       0.28      0.18      0.22     13538\n",
      "\n",
      "    accuracy                           0.77     76605\n",
      "   macro avg       0.56      0.54      0.54     76605\n",
      "weighted avg       0.74      0.77      0.75     76605\n",
      "\n",
      "\n",
      "RandomForest, score :  21.349245814685894\n",
      "              precision    recall  f1-score   support\n",
      "\n",
      "           0       0.97      0.90      0.93     73463\n",
      "           1       0.14      0.41      0.21      3142\n",
      "\n",
      "    accuracy                           0.88     76605\n",
      "   macro avg       0.56      0.65      0.57     76605\n",
      "weighted avg       0.94      0.88      0.90     76605\n",
      "\n",
      "\n",
      "Adaboost, score :  31.4679854242582\n",
      "              precision    recall  f1-score   support\n",
      "\n",
      "           0       0.75      0.93      0.83     54793\n",
      "           1       0.54      0.22      0.31     21812\n",
      "\n",
      "    accuracy                           0.73     76605\n",
      "   macro avg       0.65      0.57      0.57     76605\n",
      "weighted avg       0.69      0.73      0.68     76605\n",
      "\n",
      "\n"
     ]
    }
   ],
   "source": [
    "for i in range(len(list(models))):\n",
    "    model = list(models.values())[i]\n",
    "    model.fit(X_train_resampled, y_train_resampled)\n",
    "\n",
    "    y_pred = model.predict(X_test_scaled)\n",
    "\n",
    "    print(f\"{list(models.keys())[i]}, score : \", f1_score(y_test, y_pred)*100)\n",
    "    print(classification_report(y_pred, y_test))\n",
    "    print()"
   ]
  },
  {
   "cell_type": "markdown",
   "id": "ed917975-a7e4-4e1f-a42a-50bad1877d17",
   "metadata": {},
   "source": [
    "## Logistic Regression gives the best results so I am considiring it as final model."
   ]
  },
  {
   "cell_type": "code",
   "execution_count": 72,
   "id": "6440568d-598c-463e-8755-cc338750e193",
   "metadata": {},
   "outputs": [
    {
     "name": "stdout",
     "output_type": "stream",
     "text": [
      "Training accuracy :  33.04200931454782\n",
      "Test accuracy :  33.21025136073958\n",
      "Training report               precision    recall  f1-score   support\n",
      "\n",
      "           0       0.94      0.68      0.79    158013\n",
      "           1       0.22      0.68      0.33     20729\n",
      "\n",
      "    accuracy                           0.68    178742\n",
      "   macro avg       0.58      0.68      0.56    178742\n",
      "weighted avg       0.86      0.68      0.74    178742\n",
      "\n",
      "Test report               precision    recall  f1-score   support\n",
      "\n",
      "           0       0.94      0.68      0.79     67681\n",
      "           1       0.22      0.68      0.33      8924\n",
      "\n",
      "    accuracy                           0.68     76605\n",
      "   macro avg       0.58      0.68      0.56     76605\n",
      "weighted avg       0.86      0.68      0.74     76605\n",
      "\n"
     ]
    }
   ],
   "source": [
    "final_model = LogisticRegression()\n",
    "final_model.fit(X_train_resampled, y_train_resampled)\n",
    "y_pred_train = final_model.predict(X_train_scaled)\n",
    "y_pred_test = final_model.predict(X_test_scaled)\n",
    "\n",
    "train_score = f1_score(y_train, y_pred_train)\n",
    "print(\"Training accuracy : \", train_score*100)\n",
    "test_score = f1_score(y_test, y_pred_test)\n",
    "print(\"Test accuracy : \", test_score*100)\n",
    "\n",
    "train_report = classification_report(y_train, y_pred_train)\n",
    "print(\"Training report\", train_report)\n",
    "test_report = classification_report(y_test, y_pred_test)\n",
    "print(\"Test report\", test_report)"
   ]
  },
  {
   "cell_type": "code",
   "execution_count": 70,
   "id": "99f69db3-4400-4652-9f9e-24fd5af9b878",
   "metadata": {},
   "outputs": [
    {
     "name": "stdout",
     "output_type": "stream",
     "text": [
      "Best Params: {'C': 1, 'penalty': 'l2', 'solver': 'saga'}\n"
     ]
    }
   ],
   "source": [
    "from sklearn.model_selection import GridSearchCV\n",
    "\n",
    "params = {\n",
    "    'C': [0.1, 1, 10],\n",
    "    'penalty': ['l2'],\n",
    "    'solver': ['lbfgs', 'saga']\n",
    "}\n",
    "\n",
    "grid = GridSearchCV(LogisticRegression(max_iter=1000), param_grid=params, scoring='f1', cv=5)\n",
    "grid.fit(X_train_resampled, y_train_resampled)\n",
    "print(\"Best Params:\", grid.best_params_)"
   ]
  },
  {
   "cell_type": "code",
   "execution_count": 75,
   "id": "14062d25-a15d-4337-ae36-9264c22cc274",
   "metadata": {},
   "outputs": [
    {
     "name": "stdout",
     "output_type": "stream",
     "text": [
      "Training F1-score :  32.87036503417513\n",
      "Test F1-score :  33.0343716433942\n",
      "Training report               precision    recall  f1-score   support\n",
      "\n",
      "           0       0.94      0.67      0.78    158013\n",
      "           1       0.22      0.69      0.33     20729\n",
      "\n",
      "    accuracy                           0.67    178742\n",
      "   macro avg       0.58      0.68      0.56    178742\n",
      "weighted avg       0.86      0.67      0.73    178742\n",
      "\n",
      "Test report               precision    recall  f1-score   support\n",
      "\n",
      "           0       0.94      0.67      0.78     67681\n",
      "           1       0.22      0.69      0.33      8924\n",
      "\n",
      "    accuracy                           0.67     76605\n",
      "   macro avg       0.58      0.68      0.56     76605\n",
      "weighted avg       0.86      0.67      0.73     76605\n",
      "\n"
     ]
    }
   ],
   "source": [
    "final_model = LogisticRegression(C = 1, penalty='l2', solver='saga', class_weight = \"balanced\")\n",
    "final_model.fit(X_train_scaled, y_train)\n",
    "y_pred_train = final_model.predict(X_train_scaled)\n",
    "y_pred_test = final_model.predict(X_test_scaled)\n",
    "\n",
    "train_score = f1_score(y_train, y_pred_train)\n",
    "print(\"Training F1-score : \", train_score*100)\n",
    "test_score = f1_score(y_test, y_pred_test)\n",
    "print(\"Test F1-score : \", test_score*100)\n",
    "\n",
    "train_report = classification_report(y_train, y_pred_train)\n",
    "print(\"Training report\", train_report)\n",
    "test_report = classification_report(y_test, y_pred_test)\n",
    "print(\"Test report\", test_report)"
   ]
  },
  {
   "cell_type": "code",
   "execution_count": null,
   "id": "e50d0e83-926e-484d-9f3e-5fac50cdadd4",
   "metadata": {},
   "outputs": [],
   "source": []
  }
 ],
 "metadata": {
  "kernelspec": {
   "display_name": "Python 3 (ipykernel)",
   "language": "python",
   "name": "python3"
  },
  "language_info": {
   "codemirror_mode": {
    "name": "ipython",
    "version": 3
   },
   "file_extension": ".py",
   "mimetype": "text/x-python",
   "name": "python",
   "nbconvert_exporter": "python",
   "pygments_lexer": "ipython3",
   "version": "3.13.0"
  }
 },
 "nbformat": 4,
 "nbformat_minor": 5
}
